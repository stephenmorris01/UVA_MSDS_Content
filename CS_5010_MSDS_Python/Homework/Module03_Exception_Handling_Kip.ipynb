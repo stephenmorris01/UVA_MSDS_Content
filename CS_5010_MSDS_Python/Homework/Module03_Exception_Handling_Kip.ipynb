{
 "metadata": {
  "language_info": {
   "codemirror_mode": {
    "name": "ipython",
    "version": 3
   },
   "file_extension": ".py",
   "mimetype": "text/x-python",
   "name": "python",
   "nbconvert_exporter": "python",
   "pygments_lexer": "ipython3",
   "version": "3.8.3-final"
  },
  "orig_nbformat": 2,
  "kernelspec": {
   "name": "python38364bit3b389835a0504bd3b02c92ba4837e1bf",
   "display_name": "Python 3.8.3 64-bit"
  }
 },
 "nbformat": 4,
 "nbformat_minor": 2,
 "cells": [
  {
   "cell_type": "code",
   "execution_count": 1,
   "metadata": {},
   "outputs": [],
   "source": [
    "###Module 03: Live Session Exercise: Exception Handling###\n",
    "## Kip McCharen (cam7cu)\n",
    "import os \n",
    "import time\n",
    "import random"
   ]
  },
  {
   "cell_type": "code",
   "execution_count": 2,
   "metadata": {},
   "outputs": [],
   "source": [
    "def doerrors(a, yourname=\"\", encouragement=\"\"):\n",
    "    \"\"\"Function to handle errors correction from arguments passed in as \n",
    "        text. Username and encouragement text accepted. \"\"\"\n",
    "    #Creating anonymous function which will print:\n",
    "    #   1. input that failed, 2. error class name, 3. the error message\n",
    "    erout = lambda x,y: print(f\"\\tFailed to execute: {x}\\n{type(err).__name__}: {y}\") \n",
    "    try:\n",
    "        exec(a) #First try to execute the input passed as a string\n",
    "    #There does not appear to be a way to automatically generate\n",
    "    # this long list of the different error exceptions, oh well.\n",
    "    except TypeError as err: \n",
    "        erout(a,err) #Call the anonymously defined function erout()\n",
    "    except ValueError as err:\n",
    "        erout(a,err)\n",
    "    except ZeroDivisionError as err:\n",
    "        erout(a,err)\n",
    "    except FileNotFoundError as err: \n",
    "        erout(a,err)\n",
    "    except IOError as err: \n",
    "        erout(a,err)\n",
    "    except ArithmeticError as err:\n",
    "        erout(a,err)\n",
    "    except Exception as err:\n",
    "        erout(a,err)\n",
    "    finally:\n",
    "        if yourname != \"\" and encouragement != \"\":\n",
    "            #If a name and encouragement were passed, print those\n",
    "            print(f\"\\t{yourname}, {encouragement}\")\n",
    "        else:\n",
    "            print(\"\\tRotten luck.\") #Otherwise print Rotten luck.\n",
    "        #Add an extra line space to make output more clear, \n",
    "        # and wait 2 seconds so users can read the output as it happens\n",
    "        print(\"\\n\") \n",
    "        time.sleep(2)"
   ]
  },
  {
   "cell_type": "code",
   "execution_count": 3,
   "metadata": {},
   "outputs": [],
   "source": [
    "def interact_with_user():\n",
    "    \"\"\"Function to interact positively with the user, and call the\n",
    "        doerrors() function. At random chance, a randomized \n",
    "        encouragement string is added after each error from an \n",
    "        iterator of short sentences. \"\"\"\n",
    "    #Initialize variables to do all the things\n",
    "\n",
    "    #1. List of encouragements\n",
    "    encouragement = [\"Hang in there.    \", \"Don’t give up.\", \\\n",
    "    \"Keep pushing.\", \"Keep fighting!\", \"Stay strong.\", \"Never give up.\", \\\n",
    "    \"Never say ‘die’.\", \"You can do it!\", \"Follow your dreams.\", \\\n",
    "    \"Reach for the stars.\", \"  Do the impossible.\", \\\n",
    "    \"Always believe in yourself. \", \"    The sky is the limit.\"] \n",
    "    #Shuffle encouragements so we don't know which one comes first\n",
    "    random.shuffle(encouragement) \n",
    "    #Strip any whitespace and make lowercase to append to a sentence\n",
    "    encouragement = iter([x.lower().strip() for x in encouragement])\n",
    "\n",
    "    #2. List of inputs to run and call the errors in order\n",
    "    args = [r\"'2'+2\", r\"int('xyz')\", r\"x=100/0\", r\"open('madeupfile.txt')\", \\\n",
    "        r\"os.remove(filepath = os.path.dirname(os.path.abspath(__file__)))\", \\\n",
    "            \"2.718281 ** 1000\", \"print 'whoooo'\"] \n",
    "\n",
    "    #Now talk to the user! \n",
    "    yourname = input(\"Hi there, what's your name?    -> \")\n",
    "    yourname = \"Gerethy\"\n",
    "    print(f\"great! J/K I'm a computer not a person. \" +\n",
    "        f\"I'll just call you {yourname}.\")\n",
    "    time.sleep(2)\n",
    "    print(f\"OK {yourname}, let's test some errors here.\\n\")\n",
    "    time.sleep(2)\n",
    "    for a in args: #iterate through list of inputs to execute\n",
    "        #random chance to insert the name and encouragement\n",
    "        if bool(random.getrandbits(1)): \n",
    "            doerrors(a, yourname, next(encouragement))\n",
    "        else:\n",
    "            doerrors(a)\n",
    "    #finish the session positively\n",
    "    time.sleep(2)\n",
    "    print(f\"Well {yourname}, successfully produced errors! \" +\n",
    "        f\"Is that a success or not?\")\n",
    "    time.sleep(3)\n",
    "    print(f\"Honestly, who's to say. Thanks for your help anyways. \" +\n",
    "        f\"Don't forget, {next(encouragement)}\")"
   ]
  },
  {
   "cell_type": "code",
   "execution_count": 4,
   "metadata": {
    "tags": []
   },
   "outputs": [
    {
     "output_type": "stream",
     "name": "stdout",
     "text": "great! J/K I'm a computer not a person. I'll just call you Gerethy.\nOK Gerethy, let's test some errors here.\n\n\tFailed to execute: '2'+2\nTypeError: can only concatenate str (not \"int\") to str\n\tGerethy, never say ‘die’.\n\n\n\tFailed to execute: int('xyz')\nValueError: invalid literal for int() with base 10: 'xyz'\n\tRotten luck.\n\n\n\tFailed to execute: x=100/0\nZeroDivisionError: division by zero\n\tRotten luck.\n\n\n\tFailed to execute: open('madeupfile.txt')\nFileNotFoundError: [Errno 2] No such file or directory: 'madeupfile.txt'\n\tRotten luck.\n\n\n\tFailed to execute: os.remove(filepath = os.path.dirname(os.path.abspath(__file__)))\nNameError: name '__file__' is not defined\n\tGerethy, hang in there.\n\n\n\tFailed to execute: 2.718281 ** 1000\nOverflowError: (34, 'Result too large')\n\tGerethy, do the impossible.\n\n\n\tFailed to execute: print 'whoooo'\nSyntaxError: Missing parentheses in call to 'print'. Did you mean print('whoooo')? (<string>, line 1)\n\tGerethy, follow your dreams.\n\n\nWell Gerethy, successfully produced errors! Is that a success or not?\nHonestly, who's to say. Thanks for your help anyways. Don't forget, you can do it!\n"
    }
   ],
   "source": [
    "interact_with_user()"
   ]
  },
  {
   "cell_type": "code",
   "execution_count": null,
   "metadata": {},
   "outputs": [],
   "source": []
  }
 ]
}