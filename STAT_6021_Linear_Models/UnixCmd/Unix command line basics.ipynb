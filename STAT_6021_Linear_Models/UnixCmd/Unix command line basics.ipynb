{
 "cells": [
  {
   "cell_type": "markdown",
   "metadata": {},
   "source": [
    "Before learning unix commands remember:"
   ]
  },
  {
   "cell_type": "markdown",
   "metadata": {},
   "source": [
    "> “With great power comes great responsibility.” *-Benjamin Parker (Uncle Ben)*"
   ]
  },
  {
   "cell_type": "markdown",
   "metadata": {},
   "source": [
    "# Shell commands"
   ]
  },
  {
   "cell_type": "markdown",
   "metadata": {},
   "source": [
    "Unix is an operating system where users can interact with their computers using shell [Figure from [ here](https://www.dcs.warwick.ac.uk/people/academic/M.S.Joy/book/s.2.1.php)]:"
   ]
  },
  {
   "cell_type": "markdown",
   "metadata": {},
   "source": [
    "![title](kernelshell.gif)"
   ]
  },
  {
   "cell_type": "markdown",
   "metadata": {},
   "source": [
    "Windows and macOS are graphical operating systems that enable their users to click and drog-and-drop, etc. A shell user, on the other hand, can accomplish tasks by typing them without hunting for those icons and menus. But the most important advantage is more control for advanced tasks. This of course comes with a learning curve that we aim to flatten here. "
   ]
  },
  {
   "cell_type": "markdown",
   "metadata": {},
   "source": [
    "> ``Unix forms a foundation that is often very helpful for accomplishing other goals you might have for you and your computer, whether that goal is running a business, writing a book, curing disease, or creating the next great app. The means to these goals are sometimes carried out by writing software. Software can’t be mined out of the ground, nor can software seeds be planted in spring to harvest by autumn. Software isn’t produced in factories on an assembly line. Software is a hand-made, often bespoke good. If a software developer is an artisan, then Unix is their workbench. Unix provides an essential and simple set of tools in a distraction-free environment. Even if you’re not a software developer learning Unix can open you up to new methods of thinking and novel ways to scale your ideas.'' *-[The Unix Workbench book](https://leanpub.com/unix)*"
   ]
  },
  {
   "cell_type": "markdown",
   "metadata": {},
   "source": [
    "The programming language that is used in Mac and Ubuntu is called *Bash*.\n",
    "\n",
    "If you are a Windows user see [this](https://docs.microsoft.com/en-us/windows/wsl/install-win10?redirectedfrom=MSDN).\n",
    "\n"
   ]
  },
  {
   "cell_type": "markdown",
   "metadata": {},
   "source": [
    "![Terminal in Mac](terminal.png)"
   ]
  },
  {
   "cell_type": "markdown",
   "metadata": {},
   "source": [
    "The last line that ends with $, is called *prompt* and it means shell is ready for your command."
   ]
  },
  {
   "cell_type": "markdown",
   "metadata": {},
   "source": [
    "- `clear` will clean up your terminal.\n",
    "- `echo` prints text to your terminal, e.g., `echo \"hello world\"`\n",
    "- You can scroll through your command history with the Up and Down arrow keys."
   ]
  },
  {
   "cell_type": "markdown",
   "metadata": {},
   "source": [
    "# Commands for file operations"
   ]
  },
  {
   "cell_type": "markdown",
   "metadata": {},
   "source": [
    "In addition to use your Unix-like terminals (available in macOS, Linux distributions such as Ubuntu, and other Unix-like operating systems), we can execute bash commands within our Jupyter notebooks by starting with exclamation point, `!` (you may not need `!` for most of the commands though). "
   ]
  },
  {
   "cell_type": "markdown",
   "metadata": {},
   "source": [
    "let us starts with `ls` (abbreviation for list) that list all items in the current dir:"
   ]
  },
  {
   "cell_type": "code",
   "execution_count": 4,
   "metadata": {
    "tags": []
   },
   "outputs": [
    {
     "output_type": "stream",
     "name": "stdout",
     "text": "Unix command line basics.ipynb\nkernelshell.gif\nterminal.png\n"
    }
   ],
   "source": [
    "!ls  "
   ]
  },
  {
   "cell_type": "markdown",
   "metadata": {},
   "source": [
    "Most commands have options, for example `ls -l` only lists files, with sizes, dates, etc. (not directories):"
   ]
  },
  {
   "cell_type": "code",
   "execution_count": 3,
   "metadata": {
    "tags": []
   },
   "outputs": [
    {
     "output_type": "stream",
     "name": "stdout",
     "text": "Volume in drive D is Extra_Space\n Volume Serial Number is 0C5D-65F4\n\n Directory of d:\\Git\\UVA_MSDS_Content\\STAT_6021_Linear_Models\\UnixCmd\n\nFile Not Found\n"
    }
   ],
   "source": [
    "ls -l"
   ]
  },
  {
   "cell_type": "markdown",
   "metadata": {},
   "source": [
    "# Seeking help!"
   ]
  },
  {
   "cell_type": "markdown",
   "metadata": {},
   "source": [
    "For other options or in general documentation for any bash commands below, e.g. `man ls`"
   ]
  },
  {
   "cell_type": "code",
   "execution_count": 5,
   "metadata": {
    "scrolled": true,
    "tags": []
   },
   "outputs": [
    {
     "output_type": "stream",
     "name": "stderr",
     "text": "'man' is not recognized as an internal or external command,\noperable program or batch file.\n"
    }
   ],
   "source": [
    "!man ls #if you remove !, the documentation opens in a separate window that can be opened in your browser tab. Try it!"
   ]
  },
  {
   "cell_type": "markdown",
   "metadata": {},
   "source": [
    "I tend to forget the names of commands which is required to use `man`; for examples if I am looking for an editor but not sure which one, I can do the following (or try Google 😉): `!apropos editor`"
   ]
  },
  {
   "cell_type": "markdown",
   "metadata": {},
   "source": [
    "## Using outputs of Shell commands in Python namespace."
   ]
  },
  {
   "cell_type": "code",
   "execution_count": 5,
   "metadata": {},
   "outputs": [
    {
     "name": "stdout",
     "output_type": "stream",
     "text": [
      "['Unix command line basics.ipynb', 'kernelshell.gif', 'terminal.png']\n"
     ]
    }
   ],
   "source": [
    "all_contents = !ls\n",
    "\n",
    "print(all_contents)"
   ]
  },
  {
   "cell_type": "markdown",
   "metadata": {},
   "source": [
    "The results are in a special type that enables searching and filtering them using, msuch as `grep`, `fields`, `s`, `n`, `p`, see:"
   ]
  },
  {
   "cell_type": "code",
   "execution_count": 6,
   "metadata": {},
   "outputs": [
    {
     "name": "stdout",
     "output_type": "stream",
     "text": [
      "<class 'IPython.utils.text.SList'>\n"
     ]
    }
   ],
   "source": [
    "cur_dir = !pwd\n",
    "print(type(cur_dir)) #not a list; a special shell return type defined in IPython:"
   ]
  },
  {
   "cell_type": "code",
   "execution_count": 10,
   "metadata": {},
   "outputs": [
    {
     "name": "stdout",
     "output_type": "stream",
     "text": [
      "hello world\r\n"
     ]
    }
   ],
   "source": [
    "py_string = \"hello world\"\n",
    "\n",
    "!echo {py_string} #note the curly brace that contains the var name"
   ]
  },
  {
   "cell_type": "markdown",
   "metadata": {},
   "source": [
    "In Jupyter, you cannot navigate in the filesystem using `!cd ..`, but there are magic commands that does that for you: `%cd ..`."
   ]
  },
  {
   "cell_type": "code",
   "execution_count": null,
   "metadata": {},
   "outputs": [],
   "source": [
    "%cd .."
   ]
  },
  {
   "cell_type": "markdown",
   "metadata": {},
   "source": [
    "In fact you can drop `%` as the defult works for `cd`, and other similar commands."
   ]
  },
  {
   "cell_type": "markdown",
   "metadata": {},
   "source": [
    "#### Makind directories, moving and copying files and directories"
   ]
  },
  {
   "cell_type": "code",
   "execution_count": 40,
   "metadata": {},
   "outputs": [],
   "source": [
    "mkdir tmp_fldr"
   ]
  },
  {
   "cell_type": "code",
   "execution_count": 41,
   "metadata": {},
   "outputs": [
    {
     "name": "stdout",
     "output_type": "stream",
     "text": [
      "Unix command line basics.ipynb  terminal.png\r\n",
      "kernelshell.gif                 \u001b[34mtmp_fldr\u001b[m\u001b[m/\r\n"
     ]
    }
   ],
   "source": [
    "ls"
   ]
  },
  {
   "cell_type": "markdown",
   "metadata": {},
   "source": [
    "- Let us make an empty file and move it to the new directory by `mv`; \n"
   ]
  },
  {
   "cell_type": "code",
   "execution_count": 42,
   "metadata": {},
   "outputs": [],
   "source": [
    "!touch tmp.txt\n",
    "!mv tmp.txt tmp_fldr"
   ]
  },
  {
   "cell_type": "markdown",
   "metadata": {},
   "source": [
    "- `cp {file name} {dir name}` command copies a file or folder from one location to another"
   ]
  },
  {
   "cell_type": "markdown",
   "metadata": {},
   "source": [
    "You can copy directories by adding option `cp -r {dir name} {destination dir}` which means *recursive* to ensure everything withing that dir is copied."
   ]
  },
  {
   "cell_type": "markdown",
   "metadata": {},
   "source": [
    "now let us change the current directory to `tmp_fldr` and list the contents:"
   ]
  },
  {
   "cell_type": "code",
   "execution_count": 49,
   "metadata": {},
   "outputs": [
    {
     "name": "stdout",
     "output_type": "stream",
     "text": [
      "/Users/hs9hd/Google Drive/Teaching/CS5010/Session 9/Bash/tmp_fldr\n"
     ]
    }
   ],
   "source": [
    "cd tmp_fldr"
   ]
  },
  {
   "cell_type": "code",
   "execution_count": 50,
   "metadata": {},
   "outputs": [
    {
     "name": "stdout",
     "output_type": "stream",
     "text": [
      "tmp.txt\r\n"
     ]
    }
   ],
   "source": [
    "ls"
   ]
  },
  {
   "cell_type": "markdown",
   "metadata": {},
   "source": [
    "Let us swith back to the previous directory, you can do it by `cd ..`:"
   ]
  },
  {
   "cell_type": "code",
   "execution_count": 53,
   "metadata": {},
   "outputs": [
    {
     "name": "stdout",
     "output_type": "stream",
     "text": [
      "/Users/hs9hd/Google Drive/Teaching/CS5010/Session 9/Bash\n"
     ]
    }
   ],
   "source": [
    "cd .."
   ]
  },
  {
   "cell_type": "markdown",
   "metadata": {},
   "source": [
    "#### removing folders"
   ]
  },
  {
   "cell_type": "markdown",
   "metadata": {},
   "source": [
    "<font color='red'>Caution: there is no *undo button* after removing in the command line!</font> <font color='green'>permanent removal, Avada Kedavra!</font> So maybe move them in a trash folder instead??"
   ]
  },
  {
   "cell_type": "markdown",
   "metadata": {},
   "source": [
    "and we can **r**e**m**ove a folder by `rm -r {folder name}`, e.g."
   ]
  },
  {
   "cell_type": "code",
   "execution_count": 39,
   "metadata": {},
   "outputs": [],
   "source": [
    "rm -r tmp_fldr"
   ]
  },
  {
   "cell_type": "code",
   "execution_count": 16,
   "metadata": {},
   "outputs": [
    {
     "name": "stdout",
     "output_type": "stream",
     "text": [
      "Unix command line basics.ipynb  terminal.png\r\n",
      "kernelshell.gif\r\n"
     ]
    }
   ],
   "source": [
    "ls"
   ]
  },
  {
   "cell_type": "markdown",
   "metadata": {},
   "source": [
    "press tab after `cd ~/` (`~` is a surrogate for your home directory that terminal starts from) to see the hierarchy of directories under home and then navigate through them. "
   ]
  },
  {
   "cell_type": "markdown",
   "metadata": {},
   "source": [
    "# Piping"
   ]
  },
  {
   "cell_type": "markdown",
   "metadata": {},
   "source": [
    "You can pipe multiple commands together using `|`, for example:\n",
    "    `cat file.txt | head -n 3` shows the first 3 lines of file.txt. "
   ]
  },
  {
   "cell_type": "markdown",
   "metadata": {},
   "source": [
    "# **Assignment**: "
   ]
  },
  {
   "cell_type": "markdown",
   "metadata": {},
   "source": [
    "Start a Jupyter notebook and do the following:\n",
    "\n",
    "    1. Print your name on terminal.\n",
    "    2. Print your working directory.\n",
    "    3. Set your working dir to your home dir with three different commands.\n",
    "    4. change your directory to the directory of your Jupyter notebook.\n",
    "    5. Use `touch` to make a txt file and write `hello world` in that file using output redirection: `>`. \n",
    "       Append, your name by `>>`.\n",
    "    6. Show the contents of the file on the screen (use the address of the file  \n",
    "    7. Apply commands `wc` and `cat` on your txt file and explain what they do (if your txt file is big use `less` \n",
    "       instead of `cat`).\n",
    "    8. Use `curl` to download a dataset from the web.\n",
    "       Make a new folder inside your current directory and cd in that directory and move the downloaded file \n",
    "       to this new directory.\n",
    "    9. Apply `head -n 5 {}` to a print the first 5 lines of your file (`tail` is similar). \n",
    "    10. Since you know how to use git; write a bash command where you commit the changes in your code with a \n",
    "       comment and then push it to a remote Github repository.\n",
    "        \n"
   ]
  },
  {
   "cell_type": "code",
   "execution_count": null,
   "metadata": {},
   "outputs": [],
   "source": []
  }
 ],
 "metadata": {
  "kernelspec": {
   "display_name": "Python 3",
   "language": "python",
   "name": "python3"
  },
  "language_info": {
   "codemirror_mode": {
    "name": "ipython",
    "version": 3
   },
   "file_extension": ".py",
   "mimetype": "text/x-python",
   "name": "python",
   "nbconvert_exporter": "python",
   "pygments_lexer": "ipython3",
   "version": "3.7.7-final"
  }
 },
 "nbformat": 4,
 "nbformat_minor": 2
}