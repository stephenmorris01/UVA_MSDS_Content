{
 "cells": [
  {
   "cell_type": "markdown",
   "metadata": {},
   "source": [
    "# Module 2 Live Session Assignment: Python\n",
    "\n",
    "- Andrew J. Graves, Kip McCharen, Clair, McLafferty\n",
    "- ajg3eh, cam7cu, and cm2rh"
   ]
  },
  {
   "cell_type": "markdown",
   "metadata": {},
   "source": [
    "*Note: We reached out to Nada Basit about working as a group of 3, and she confirmed that this was OK for this assignment submission.*"
   ]
  },
  {
   "cell_type": "code",
   "execution_count": 3,
   "metadata": {},
   "outputs": [],
   "source": [
    "# Import modules\n",
    "from random import triangular # For student grade RNG"
   ]
  },
  {
   "cell_type": "markdown",
   "metadata": {},
   "source": [
    "## The following code (the Student class) was adapted from pyScript19.py, which is included in the CS 5010 course materials"
   ]
  },
  {
   "cell_type": "code",
   "execution_count": 4,
   "metadata": {},
   "outputs": [],
   "source": [
    "# Define student class\n",
    "class Student:\n",
    "    # fields: name, sid, grades (list)\n",
    "    \n",
    "    # Changes for exercise below\n",
    "    # --------------------------\n",
    "    def __init__(self, name, sid, grades=[]):\n",
    "        self.name = name\n",
    "        self.sid = sid\n",
    "        self.grades = grades\n",
    "            \n",
    "    def __str__(self):\n",
    "        return f\"Name: {self.name}, ID: {self.sid}, Grades: {self.show_grades()}\"\n",
    "    \n",
    "    def average(self):\n",
    "        try: \n",
    "            return 'Average Grade: ' + str(sum(self.grades) / len(self.grades))\n",
    "        except ZeroDivisionError:\n",
    "            print('No grades entered for this student!')\n",
    "        except TypeError:\n",
    "            print('Please re-enter the grades as numbers!')\n",
    "    # --------------------------\n",
    "    # Changes for exercise above\n",
    "            \n",
    "    def add_grade(self, grade):\n",
    "        return self.grades.append(grade)\n",
    "    \n",
    "    def show_grades(self):\n",
    "        grds = ''\n",
    "        for grade in self.grades: \n",
    "            grds += str(grade) + ' '\n",
    "        return grds"
   ]
  },
  {
   "cell_type": "markdown",
   "metadata": {},
   "source": [
    "## Simulate student entry to demonstrate the functionality of the Student class"
   ]
  },
  {
   "cell_type": "code",
   "execution_count": 8,
   "metadata": {
    "tags": []
   },
   "outputs": [
    {
     "output_type": "stream",
     "name": "stdout",
     "text": "\n---------- New Student entry ----------\n\nName: Terry, ID: 007zyx, Grades: 81 84 93 76 70 81 87 91 85 95 75 83 80 90 87 83 75 78 93 91 85 82 85 69 83 86 81 88 69 80 75 99 80 75 76 80 83 78 82 81 69 92 93 90 86 88 73 87 84 86 88 71 76 76 81 86 74 92 67 85 \n81 84 93 76 70 81 87 91 85 95 75 83 80 90 87 83 75 78 93 91 85 82 85 69 83 86 81 88 69 80 75 99 80 75 76 80 83 78 82 81 69 92 93 90 86 88 73 87 84 86 88 71 76 76 81 86 74 92 67 85 \nAverage Grade: 82.31666666666666\n\n---------- New Student entry ----------\n\nName: Tina, ID: 008ab, Grades: 81 84 93 76 70 81 87 91 85 95 75 83 80 90 87 83 75 78 93 91 85 82 85 69 83 86 81 88 69 80 75 99 80 75 76 80 83 78 82 81 69 92 93 90 86 88 73 87 84 86 88 71 76 76 81 86 74 92 67 85 88 89 75 73 96 83 78 90 86 81 \n81 84 93 76 70 81 87 91 85 95 75 83 80 90 87 83 75 78 93 91 85 82 85 69 83 86 81 88 69 80 75 99 80 75 76 80 83 78 82 81 69 92 93 90 86 88 73 87 84 86 88 71 76 76 81 86 74 92 67 85 88 89 75 73 96 83 78 90 86 81 \nAverage Grade: 82.54285714285714\n\n---------- New Student entry ----------\n\nName: Tom, ID: 009c, Grades: 81 84 93 76 70 81 87 91 85 95 75 83 80 90 87 83 75 78 93 91 85 82 85 69 83 86 81 88 69 80 75 99 80 75 76 80 83 78 82 81 69 92 93 90 86 88 73 87 84 86 88 71 76 76 81 86 74 92 67 85 88 89 75 73 96 83 78 90 86 81 82 91 73 99 81 88 82 74 79 95 \n81 84 93 76 70 81 87 91 85 95 75 83 80 90 87 83 75 78 93 91 85 82 85 69 83 86 81 88 69 80 75 99 80 75 76 80 83 78 82 81 69 92 93 90 86 88 73 87 84 86 88 71 76 76 81 86 74 92 67 85 88 89 75 73 96 83 78 90 86 81 82 91 73 99 81 88 82 74 79 95 \nAverage Grade: 82.775\n"
    }
   ],
   "source": [
    "# Define students (cast as dictionary for compactness)\n",
    "students = {'Terry': '007zyx', 'Tina': '008ab', 'Tom': '009c'}\n",
    "\n",
    "# Initialize list to capture output\n",
    "student_output = []\n",
    "\n",
    "# Iterate and print student attributes\n",
    "for key, value in students.items():\n",
    "    s = Student(key, value, [])\n",
    "    # Generates 10 random grades (65-100)\n",
    "    for i in range(10):\n",
    "        s.add_grade(round(triangular(65, 100)))\n",
    "    print('\\n---------- New Student entry ----------\\n')\n",
    "    print(s)\n",
    "    print(s.show_grades())\n",
    "    print(s.average())\n",
    "    student_output.append(s)\n",
    "    del s\n",
    "# Delete final student\n"
   ]
  },
  {
   "cell_type": "code",
   "execution_count": null,
   "metadata": {},
   "outputs": [],
   "source": []
  }
 ],
 "metadata": {
  "kernelspec": {
   "display_name": "Python 3",
   "language": "python",
   "name": "python3"
  },
  "language_info": {
   "codemirror_mode": {
    "name": "ipython",
    "version": 3
   },
   "file_extension": ".py",
   "mimetype": "text/x-python",
   "name": "python",
   "nbconvert_exporter": "python",
   "pygments_lexer": "ipython3",
   "version": "3.8.3-final"
  }
 },
 "nbformat": 4,
 "nbformat_minor": 2
}