{
 "cells": [
  {
   "cell_type": "markdown",
   "metadata": {},
   "source": [
    "# Module 2 Live Session Assignment: Python\n",
    "\n",
    "- Andrew J. Graves, Kip McCharen, Clair, McLafferty\n",
    "- ajg3eh, cam7cu, and cm2rh"
   ]
  },
  {
   "cell_type": "markdown",
   "metadata": {},
   "source": [
    "*Note: We reached out to Nada Basit about working as a group of 3, and she confirmed that this was OK for this assignment submission.*"
   ]
  },
  {
   "cell_type": "code",
   "execution_count": 1,
   "metadata": {},
   "outputs": [],
   "source": [
    "# Import modules\n",
    "from random import triangular # For student grade RNG"
   ]
  },
  {
   "cell_type": "markdown",
   "metadata": {},
   "source": [
    "## The following code (the Student class) was adapted from pyScript19.py, which is included in the CS 5010 course materials"
   ]
  },
  {
   "cell_type": "code",
   "execution_count": 2,
   "metadata": {},
   "outputs": [],
   "source": [
    "# Define student class\n",
    "class Student:\n",
    "    # fields: name, sid, grades (list)\n",
    "    \n",
    "    # Changes for exercise below\n",
    "    # --------------------------\n",
    "    def __init__(self, name, sid):\n",
    "        self.name = name\n",
    "        self.sid = sid\n",
    "        self.grades = []\n",
    "            \n",
    "    def __str__(self):\n",
    "        return f\"Name: {self.name}, ID: {self.sid}, Grades: {self.show_grades()}\"\n",
    "    \n",
    "    def average(self):\n",
    "        try: \n",
    "            return 'Average Grade: ' + str(sum(self.grades) / len(self.grades))\n",
    "        except ZeroDivisionError:\n",
    "            print('No grades entered for this student!')\n",
    "        except TypeError:\n",
    "            print('Please re-enter the grades as numbers!')\n",
    "    # --------------------------\n",
    "    # Changes for exercise above\n",
    "            \n",
    "    def add_grade(self, grade):\n",
    "        return self.grades.append(grade)\n",
    "    \n",
    "    def show_grades(self):\n",
    "        grds = ''\n",
    "        for grade in self.grades: \n",
    "            grds += str(grade) + ' '\n",
    "        return grds"
   ]
  },
  {
   "cell_type": "markdown",
   "metadata": {},
   "source": [
    "## Simulate student entry to demonstrate the functionality of the Student class"
   ]
  },
  {
   "cell_type": "code",
   "execution_count": 3,
   "metadata": {},
   "outputs": [
    {
     "name": "stdout",
     "output_type": "stream",
     "text": [
      "\n",
      "---------- New Student entry ----------\n",
      "\n",
      "Name: Terry, ID: 007zyx, Grades: 72 97 92 83 80 76 75 91 99 89 \n",
      "72 97 92 83 80 76 75 91 99 89 \n",
      "Average Grade: 85.4\n",
      "\n",
      "---------- New Student entry ----------\n",
      "\n",
      "Name: Tina, ID: 008ab, Grades: 83 83 87 77 85 84 84 79 80 81 \n",
      "83 83 87 77 85 84 84 79 80 81 \n",
      "Average Grade: 82.3\n",
      "\n",
      "---------- New Student entry ----------\n",
      "\n",
      "Name: Tom, ID: 009c, Grades: 92 79 80 81 85 75 93 94 75 81 \n",
      "92 79 80 81 85 75 93 94 75 81 \n",
      "Average Grade: 83.5\n"
     ]
    }
   ],
   "source": [
    "# Define students (cast as dictionary for compactness)\n",
    "students = {'Terry': '007zyx', 'Tina': '008ab', 'Tom': '009c'}\n",
    "\n",
    "# Initialize list to capture output\n",
    "student_output = []\n",
    "\n",
    "# Iterate and print student attributes\n",
    "for key, value in students.items():\n",
    "    s = Student(key, value)\n",
    "    # Generates 10 random grades (65-100)\n",
    "    for i in range(10):\n",
    "        s.add_grade(round(triangular(65, 100)))\n",
    "    print('\\n---------- New Student entry ----------\\n')\n",
    "    print(s)\n",
    "    print(s.show_grades())\n",
    "    print(s.average())\n",
    "    student_output.append(s)\n",
    "\n",
    "# Delete final student\n",
    "del s"
   ]
  }
 ],
 "metadata": {
  "kernelspec": {
   "display_name": "Python 3",
   "language": "python",
   "name": "python3"
  },
  "language_info": {
   "codemirror_mode": {
    "name": "ipython",
    "version": 3
   },
   "file_extension": ".py",
   "mimetype": "text/x-python",
   "name": "python",
   "nbconvert_exporter": "python",
   "pygments_lexer": "ipython3",
   "version": "3.7.4"
  }
 },
 "nbformat": 4,
 "nbformat_minor": 2
}
